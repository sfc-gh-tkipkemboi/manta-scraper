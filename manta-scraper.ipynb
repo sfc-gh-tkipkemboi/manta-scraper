{
 "cells": [
  {
   "cell_type": "code",
   "execution_count": 79,
   "metadata": {},
   "outputs": [],
   "source": [
    "import pandas as pd\n",
    "from bs4 import BeautifulSoup\n",
    "\n",
    "import undetected_chromedriver as uc\n",
    "from selenium.webdriver.common.desired_capabilities import DesiredCapabilities\n",
    "from selenium.webdriver.support.ui import WebDriverWait\n",
    "from selenium.webdriver.support import expected_conditions as EC\n",
    "from selenium.webdriver.common.by import By\n",
    "from selenium.webdriver.chrome.options import Options"
   ]
  },
  {
   "cell_type": "code",
   "execution_count": 80,
   "metadata": {},
   "outputs": [],
   "source": [
    "options = Options()\n",
    "options.add_argument('--headless')\n",
    "options.add_argument('--disable-gpu')\n",
    "\n",
    "caps = DesiredCapabilities().CHROME\n",
    "caps[\"pageLoadStrategy\"] = \"eager\""
   ]
  },
  {
   "cell_type": "code",
   "execution_count": 82,
   "metadata": {},
   "outputs": [],
   "source": [
    "driver = uc.Chrome(desired_capabilities=caps, options=options)"
   ]
  },
  {
   "cell_type": "code",
   "execution_count": 83,
   "metadata": {},
   "outputs": [],
   "source": [
    "driver.get('https://www.manta.com/search?search_source=nav&search=Restaurants&city=New&state=york&device=desktop&screenResolution=2400x1300')"
   ]
  },
  {
   "cell_type": "code",
   "execution_count": 84,
   "metadata": {},
   "outputs": [
    {
     "data": {
      "text/plain": [
       "35"
      ]
     },
     "execution_count": 84,
     "metadata": {},
     "output_type": "execute_result"
    }
   ],
   "source": [
    "soup = BeautifulSoup(driver.page_source, 'lxml')\n",
    "\n",
    "cards = soup.select('.md\\:mt-4')\n",
    "len(cards)"
   ]
  },
  {
   "cell_type": "code",
   "execution_count": 85,
   "metadata": {},
   "outputs": [
    {
     "data": {
      "text/plain": [
       "'www.99restaurants.com'"
      ]
     },
     "execution_count": 85,
     "metadata": {},
     "output_type": "execute_result"
    }
   ],
   "source": [
    "name = cards[0].select_one('.hover\\:text-primary-v1').text\n",
    "address_card = cards[0].select('.ml-4 div')\n",
    "address = address_card[0].text + ',' + ' ' + address_card[1].text\n",
    "phone = cards[0].select_one('.mt-2 div').text\n",
    "website = cards[0].select_one('.hover\\:underline')['href']\n",
    "website = website.replace('/urlverify?redirect=https%3A%2F%2F', '')\n",
    "if '/urlverify?redirect' in website:\n",
    "    website = website.replace('/urlverify?redirect=http%3A%2F%2F', '')\n",
    "website = website.replace(website[website.index('%'):], '')\n",
    "website"
   ]
  },
  {
   "cell_type": "code",
   "execution_count": 86,
   "metadata": {},
   "outputs": [
    {
     "name": "stdout",
     "output_type": "stream",
     "text": [
      "Page 1\n",
      "Page 2\n",
      "Page 3\n",
      "Page 4\n",
      "Page 5\n",
      "Page 6\n",
      "Page 7\n",
      "Page 8\n",
      "Page 9\n"
     ]
    }
   ],
   "source": [
    "items_list = []\n",
    "for x in range(1, 10):\n",
    "    driver.get(f'https://www.manta.com/search?search_source=nav&search=Restaurants&city=New&state=york&device=desktop&screenResolution=2400x1300&pg={x}')\n",
    "    print(f'Page {x}')\n",
    "    WebDriverWait(driver, 60).until(EC.presence_of_element_located((By.XPATH, '//*[@id=\"mapid\"]')))\n",
    "    soup = BeautifulSoup(driver.page_source, 'lxml')\n",
    "    cards = soup.select('.md\\:mt-4')\n",
    "\n",
    "    for card in cards:\n",
    "        try:\n",
    "            name = card.select_one('.hover\\:text-primary-v1').text\n",
    "        except:\n",
    "            name = None\n",
    "        try:\n",
    "            address_card = card.select('.ml-4 div')\n",
    "            address = address_card[0].text + ',' + ' ' + address_card[1].text\n",
    "        except:\n",
    "            address = None\n",
    "        try:\n",
    "            phone = card.select_one('.mt-2 div').text\n",
    "        except:\n",
    "            phone = None\n",
    "        try:\n",
    "            website = card.select_one('.hover\\:underline')['href']\n",
    "            website = website.replace('/urlverify?redirect=https%3A%2F%2F', '')\n",
    "            if '/urlverify?redirect' in website:\n",
    "                website = website.replace('/urlverify?redirect=http%3A%2F%2F', '')\n",
    "            else:\n",
    "                pass\n",
    "            website = website.replace(website[website.index('%'):], '')\n",
    "        except:\n",
    "            website = None\n",
    "\n",
    "        items = {\n",
    "            'Name': name,\n",
    "            'Address': address,\n",
    "            'Phone': phone,\n",
    "            'Website': website\n",
    "        }\n",
    "\n",
    "        items_list.append(items)"
   ]
  },
  {
   "cell_type": "markdown",
   "metadata": {},
   "source": [
    "# Thank You"
   ]
  }
 ],
 "metadata": {
  "kernelspec": {
   "display_name": "Python 3.10.0 ('kiber')",
   "language": "python",
   "name": "python3"
  },
  "language_info": {
   "codemirror_mode": {
    "name": "ipython",
    "version": 3
   },
   "file_extension": ".py",
   "mimetype": "text/x-python",
   "name": "python",
   "nbconvert_exporter": "python",
   "pygments_lexer": "ipython3",
   "version": "3.10.0"
  },
  "orig_nbformat": 4,
  "vscode": {
   "interpreter": {
    "hash": "fdb6fc7dd92a6cfcca3c68720bd737aecb050a4076f66a2a3431be09449648ae"
   }
  }
 },
 "nbformat": 4,
 "nbformat_minor": 2
}
